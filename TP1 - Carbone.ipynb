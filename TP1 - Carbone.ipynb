{
 "cells": [
  {
   "cell_type": "code",
   "execution_count": 5,
   "metadata": {},
   "outputs": [],
   "source": [
    "# imports\n",
    "import numpy as np\n",
    "import wget\n",
    "from os import path\n",
    "import random\n",
    "\n",
    "# numpy conf\n",
    "np.set_printoptions(precision=3, suppress=True)"
   ]
  },
  {
   "cell_type": "code",
   "execution_count": 6,
   "metadata": {},
   "outputs": [],
   "source": [
    "# Descargar dataset\n",
    "# Breast Cancer Wisconsin (Diagnostic) Data Set\n",
    "# http://mlr.cs.umass.edu/ml/datasets/Breast+Cancer+Wisconsin+%28Diagnostic%29\n",
    "\n",
    "dataset_url = 'http://mlr.cs.umass.edu/ml/machine-learning-databases/breast-cancer-wisconsin/wdbc.data'\n",
    "dataset_localfilename = 'wdbc.data'\n",
    "if not path.exists(dataset_localfilename):\n",
    "    wget.download(dataset_url, dataset_localfilename)"
   ]
  },
  {
   "cell_type": "code",
   "execution_count": 8,
   "metadata": {},
   "outputs": [
    {
     "output_type": "stream",
     "name": "stdout",
     "text": "Dataset size: (569, 32)\nFirst 4 rows:\n[[  842302.           1.          17.99        10.38       122.8\n      1001.           0.118        0.278        0.3          0.147\n         0.242        0.079        1.095        0.905        8.589\n       153.4          0.006        0.049        0.054        0.016\n         0.03         0.006       25.38        17.33       184.6\n      2019.           0.162        0.666        0.712        0.265\n         0.46         0.119]\n [  842517.           1.          20.57        17.77       132.9\n      1326.           0.085        0.079        0.087        0.07\n         0.181        0.057        0.543        0.734        3.398\n        74.08         0.005        0.013        0.019        0.013\n         0.014        0.004       24.99        23.41       158.8\n      1956.           0.124        0.187        0.242        0.186\n         0.275        0.089]\n [84300903.           1.          19.69        21.25       130.\n      1203.           0.11         0.16         0.197        0.128\n         0.207        0.06         0.746        0.787        4.585\n        94.03         0.006        0.04         0.038        0.021\n         0.022        0.005       23.57        25.53       152.5\n      1709.           0.144        0.424        0.45         0.243\n         0.361        0.088]\n [84348301.           1.          11.42        20.38        77.58\n       386.1          0.142        0.284        0.241        0.105\n         0.26         0.097        0.496        1.156        3.445\n        27.23         0.009        0.075        0.057        0.019\n         0.06         0.009       14.91        26.5         98.87\n       567.7          0.21         0.866        0.687        0.258\n         0.664        0.173]]\n"
    }
   ],
   "source": [
    "# Necesito reemplazar M (maligno) y B (benigno) por valores númericos en el dataset\n",
    "def replace(file_path, save_path):\n",
    "    with open(save_path, 'x') as new_file:\n",
    "        with open(file_path) as old_file:\n",
    "            for line in old_file:\n",
    "                if \"M\" in line :\n",
    "                    new_file.write( line.replace( \"M\", \"1\" ) )\n",
    "                if \"B\" in line :\n",
    "                    new_file.write( line.replace( \"B\", \"0\" ) )\n",
    "\n",
    "dataset_localfilename_edited = 'wdbc_edited.data'\n",
    "if not path.exists(dataset_localfilename_edited):\n",
    "    replace(dataset_localfilename, dataset_localfilename_edited)"
   ]
  },
  {
   "cell_type": "code",
   "execution_count": 9,
   "metadata": {},
   "outputs": [
    {
     "output_type": "stream",
     "name": "stdout",
     "text": "Dataset size: (569, 32)\nFirst 4 rows:\n[[  842302.           1.          17.99        10.38       122.8\n      1001.           0.118        0.278        0.3          0.147\n         0.242        0.079        1.095        0.905        8.589\n       153.4          0.006        0.049        0.054        0.016\n         0.03         0.006       25.38        17.33       184.6\n      2019.           0.162        0.666        0.712        0.265\n         0.46         0.119]\n [  842517.           1.          20.57        17.77       132.9\n      1326.           0.085        0.079        0.087        0.07\n         0.181        0.057        0.543        0.734        3.398\n        74.08         0.005        0.013        0.019        0.013\n         0.014        0.004       24.99        23.41       158.8\n      1956.           0.124        0.187        0.242        0.186\n         0.275        0.089]\n [84300903.           1.          19.69        21.25       130.\n      1203.           0.11         0.16         0.197        0.128\n         0.207        0.06         0.746        0.787        4.585\n        94.03         0.006        0.04         0.038        0.021\n         0.022        0.005       23.57        25.53       152.5\n      1709.           0.144        0.424        0.45         0.243\n         0.361        0.088]\n [84348301.           1.          11.42        20.38        77.58\n       386.1          0.142        0.284        0.241        0.105\n         0.26         0.097        0.496        1.156        3.445\n        27.23         0.009        0.075        0.057        0.019\n         0.06         0.009       14.91        26.5         98.87\n       567.7          0.21         0.866        0.687        0.258\n         0.664        0.173]]\n"
    }
   ],
   "source": [
    "# Carga del dataset\n",
    "dataset_raw = np.genfromtxt(dataset_localfilename_edited, delimiter=',', dtype=float)\n",
    "print('Dataset size: {}'.format(dataset_raw.shape))\n",
    "\n",
    "# imprimimos las primeras 4 filas para ver qué tipo de datos tenemos\n",
    "print('First 4 rows:')\n",
    "print(dataset_raw[0:4,:])"
   ]
  },
  {
   "cell_type": "code",
   "execution_count": 10,
   "metadata": {},
   "outputs": [
    {
     "output_type": "stream",
     "name": "stdout",
     "text": "X size: (569, 30)\ny size: (569,)\nFirst 4 rows from the design matrix:\n[[  17.99    10.38   122.8   1001.       0.118    0.278    0.3      0.147\n     0.242    0.079    1.095    0.905    8.589  153.4      0.006    0.049\n     0.054    0.016    0.03     0.006   25.38    17.33   184.6   2019.\n     0.162    0.666    0.712    0.265    0.46     0.119]\n [  20.57    17.77   132.9   1326.       0.085    0.079    0.087    0.07\n     0.181    0.057    0.543    0.734    3.398   74.08     0.005    0.013\n     0.019    0.013    0.014    0.004   24.99    23.41   158.8   1956.\n     0.124    0.187    0.242    0.186    0.275    0.089]\n [  19.69    21.25   130.    1203.       0.11     0.16     0.197    0.128\n     0.207    0.06     0.746    0.787    4.585   94.03     0.006    0.04\n     0.038    0.021    0.022    0.005   23.57    25.53   152.5   1709.\n     0.144    0.424    0.45     0.243    0.361    0.088]\n [  11.42    20.38    77.58   386.1      0.142    0.284    0.241    0.105\n     0.26     0.097    0.496    1.156    3.445   27.23     0.009    0.075\n     0.057    0.019    0.06     0.009   14.91    26.5     98.87   567.7\n     0.21     0.866    0.687    0.258    0.664    0.173]]\nFirst 4 labels from the labels array:\n[1. 1. 1. 1.]\n(array([0., 1.]), array([357, 212]))\n"
    }
   ],
   "source": [
    "# Seleccionamos etiquetas e instancias\n",
    "X = dataset_raw[:,2:]\n",
    "y = dataset_raw[:,1]\n",
    "\n",
    "# chequeamos los tamaños de nuestros nuevos conjuntos\n",
    "print('X size: {}'.format(X.shape))\n",
    "print('y size: {}'.format(y.shape))\n",
    "\n",
    "# imprimimos las primeras 4 filas\n",
    "print('First 4 rows from the design matrix:')\n",
    "print(X[0:4,:])\n",
    "print('First 4 labels from the labels array:')\n",
    "print(y[0:4])\n",
    "\n",
    "# Contamos la cantidad de elementos con cada etiqueta \n",
    "print(np.unique(y, return_counts=True))"
   ]
  },
  {
   "cell_type": "code",
   "execution_count": 11,
   "metadata": {},
   "outputs": [
    {
     "output_type": "stream",
     "name": "stdout",
     "text": "First 5 indices (without shuffling): [0, 1, 2, 3, 4]\nFirst 5 indices (after shuffling): [546, 527, 82, 51, 142]\nTrain/val set size: (398, 30)\nTest set size: (171, 30)\n"
    }
   ],
   "source": [
    "# calculamos la cantidad de muestras de entrenamiento/validación y test\n",
    "n_trainval = round(0.7 * X.shape[0])\n",
    "n_test = X.shape[0] - n_trainval\n",
    "\n",
    "# vamos a generar una secuencia de índices de 0 al total de muestras, con la que\n",
    "# representaremos cada muestra en nuestra matriz de diseño\n",
    "idx = list(range(0,X.shape[0]))\n",
    "print('First 5 indices (without shuffling): {}'.format(idx[0:5]))\n",
    "\n",
    "# ahora vamos a aleatorizar el orden de esta lista, para que ya no sean \n",
    "# consecutivos\n",
    "random.shuffle(idx)\n",
    "print('First 5 indices (after shuffling): {}'.format(idx[0:5]))\n",
    "\n",
    "# si extraemos las primeras n_trainval muestras de X usando los índices\n",
    "# aleatorizados que hemos generado, esto equivale a tomar unas muestra aleatoria\n",
    "X_trainval = X[idx[0:n_trainval],:]\n",
    "y_trainval = y[idx[0:n_trainval]]\n",
    "X_test = X[idx[n_trainval:],:]\n",
    "y_test = y[idx[n_trainval:]]\n",
    "\n",
    "# verificamos sus tamaños\n",
    "print('Train/val set size: {}'.format(X_trainval.shape))\n",
    "print('Test set size: {}'.format(X_test.shape))"
   ]
  },
  {
   "cell_type": "code",
   "execution_count": 12,
   "metadata": {},
   "outputs": [
    {
     "output_type": "stream",
     "name": "stdout",
     "text": "Training set size: (358, 30)\nValidation set size: (40, 30)\nTest set size: (171, 30)\n"
    }
   ],
   "source": [
    "# calculamos la cantidad de muestras de entrenamiento y validación\n",
    "n_train = round(0.9 * X_trainval.shape[0])\n",
    "n_val = X_trainval.shape[0] - n_train\n",
    "\n",
    "# si extraemos las primeras n_trainval muestras de X usando los índices\n",
    "# aleatorizados que hemos generado, esto equivale a tomar unas muestra aleatoria\n",
    "X_train = X[idx[0:n_train],:]\n",
    "y_train = y[idx[0:n_train]]\n",
    "X_val = X[idx[n_train:n_train+n_val],:]\n",
    "y_val = y[idx[n_train:n_train+n_val]]\n",
    "\n",
    "# verificamos sus tamaños\n",
    "print('Training set size: {}'.format(X_train.shape))\n",
    "print('Validation set size: {}'.format(X_val.shape))\n",
    "print('Test set size: {}'.format(X_test.shape))"
   ]
  },
  {
   "cell_type": "code",
   "execution_count": 13,
   "metadata": {},
   "outputs": [
    {
     "output_type": "stream",
     "name": "stdout",
     "text": "[0.627 0.373]\n[0.62 0.38]\n[0.675 0.325]\n"
    }
   ],
   "source": [
    "# Imprimimos el porcentaje de instancias con cada una de las dos etiquetas para dataset, train y validation\n",
    "print(np.unique(y, return_counts=True)[1]/np.size(y))\n",
    "print(np.unique(y_train, return_counts=True)[1]/np.size(y_train))\n",
    "print(np.unique(y_val, return_counts=True)[1]/np.size(y_val))"
   ]
  },
  {
   "cell_type": "code",
   "execution_count": null,
   "metadata": {},
   "outputs": [],
   "source": []
  }
 ],
 "metadata": {
  "language_info": {
   "codemirror_mode": {
    "name": "ipython",
    "version": 3
   },
   "file_extension": ".py",
   "mimetype": "text/x-python",
   "name": "python",
   "nbconvert_exporter": "python",
   "pygments_lexer": "ipython3",
   "version": "3.8.2-final"
  },
  "orig_nbformat": 2,
  "kernelspec": {
   "name": "python38264bita4651fcec45d46e89ea15b06f59c54ed",
   "display_name": "Python 3.8.2 64-bit"
  }
 },
 "nbformat": 4,
 "nbformat_minor": 2
}